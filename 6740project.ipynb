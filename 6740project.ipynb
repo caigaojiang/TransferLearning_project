{
 "cells": [
  {
   "cell_type": "code",
   "execution_count": 1,
   "metadata": {
    "collapsed": false
   },
   "outputs": [
    {
     "name": "stderr",
     "output_type": "stream",
     "text": [
      "Using TensorFlow backend.\n"
     ]
    }
   ],
   "source": [
    "from keras.layers import Input, Dense, Conv2D, MaxPooling2D, UpSampling2D\n",
    "from keras.models import Model\n",
    "from keras import backend as K\n",
    "import os\n",
    "import re\n",
    "import numpy as np\n",
    "import pandas as pd\n",
    "from tensorflow.python.platform import gfile\n",
    "import tensorflow as tf\n",
    "from keras.preprocessing.image import ImageDataGenerator, array_to_img, img_to_array, load_img\n",
    "from PIL import Image\n",
    "import random\n",
    "from keras.callbacks import TensorBoard\n",
    "import matplotlib.pyplot as plt\n",
    "from scipy.stats.stats import pearsonr\n",
    "from sklearn.metrics import confusion_matrix\n",
    "from sklearn.decomposition import TruncatedSVD\n",
    "%matplotlib inline"
   ]
  },
  {
   "cell_type": "code",
   "execution_count": 2,
   "metadata": {
    "collapsed": true
   },
   "outputs": [],
   "source": [
    "######################################\n",
    "# Loading images & their class for each catgory\n",
    "######################################"
   ]
  },
  {
   "cell_type": "code",
   "execution_count": 3,
   "metadata": {
    "collapsed": true
   },
   "outputs": [],
   "source": [
    "#image size to be used\n",
    "#using lower pixel_size because of the memory and time constraints\n",
    "#please change this to a desired value (if required)\n",
    "pixel_size = 28"
   ]
  },
  {
   "cell_type": "code",
   "execution_count": 4,
   "metadata": {
    "collapsed": false
   },
   "outputs": [],
   "source": [
    "images_dir1 = 'input/'\n",
    "list_images1 = [images_dir1+f for f in os.listdir(images_dir1) if re.search('jpeg|JPEG|jpg', f)]"
   ]
  },
  {
   "cell_type": "code",
   "execution_count": 5,
   "metadata": {
    "collapsed": false
   },
   "outputs": [],
   "source": [
    "# Loading category 1: Plant, flora, plant life\n",
    "\n",
    "train_1 = np.zeros(shape=(len(list_images1),pixel_size*pixel_size,3))\n",
    "count = 0\n",
    "for i in list_images1:\n",
    "    img = Image.open(i)  \n",
    "    img = img.resize((pixel_size, pixel_size))\n",
    "    x = img_to_array(img)\n",
    "    if (x.shape[2]==1):\n",
    "        x = x.reshape(1,pixel_size*pixel_size,1)\n",
    "    else:\n",
    "        x = x.reshape(1,pixel_size*pixel_size,3)\n",
    "    train_1[count] = x\n",
    "    count += 1"
   ]
  },
  {
   "cell_type": "code",
   "execution_count": 6,
   "metadata": {
    "collapsed": false
   },
   "outputs": [
    {
     "data": {
      "text/plain": [
       "(20, 784, 3)"
      ]
     },
     "execution_count": 6,
     "metadata": {},
     "output_type": "execute_result"
    }
   ],
   "source": [
    "train_1.shape"
   ]
  },
  {
   "cell_type": "code",
   "execution_count": 7,
   "metadata": {
    "collapsed": false
   },
   "outputs": [],
   "source": [
    "train_1 = np.reshape(train_1, (len(train_1), pixel_size,pixel_size, 3))  \n",
    "train_1 = train_1[:18,:,:]"
   ]
  },
  {
   "cell_type": "code",
   "execution_count": 8,
   "metadata": {
    "collapsed": false
   },
   "outputs": [
    {
     "data": {
      "text/plain": [
       "(18, 28, 28, 3)"
      ]
     },
     "execution_count": 8,
     "metadata": {},
     "output_type": "execute_result"
    }
   ],
   "source": [
    "train_1.shape"
   ]
  },
  {
   "cell_type": "code",
   "execution_count": 9,
   "metadata": {
    "collapsed": false
   },
   "outputs": [],
   "source": [
    "# Generating classes for each category\n",
    "\n",
    "train_1_class = np.array([1,1,1,2,2,2,1,1,1,1,1,1,2,2,2,2,2,2])"
   ]
  },
  {
   "cell_type": "code",
   "execution_count": 10,
   "metadata": {
    "collapsed": false
   },
   "outputs": [
    {
     "data": {
      "text/plain": [
       "(18,)"
      ]
     },
     "execution_count": 10,
     "metadata": {},
     "output_type": "execute_result"
    }
   ],
   "source": [
    "train_1_class.shape"
   ]
  },
  {
   "cell_type": "code",
   "execution_count": 11,
   "metadata": {
    "collapsed": true
   },
   "outputs": [],
   "source": [
    "######################################\n",
    "# Function calls\n",
    "######################################"
   ]
  },
  {
   "cell_type": "code",
   "execution_count": 12,
   "metadata": {
    "collapsed": true
   },
   "outputs": [],
   "source": [
    "# Function call to split the training and testing data \n",
    "\n",
    "def train_test_split(train,train_class):\n",
    "    seq = list(range(0,train.shape[0]))\n",
    "    random.shuffle(seq)\n",
    "\n",
    "    x_train = train[seq[:int(0.80*len(seq))]]\n",
    "    x_train_class = train_class[seq[:int(0.80*len(seq))]]\n",
    "\n",
    "    x_test = train[seq[int(0.80*len(seq)):]]\n",
    "    x_test_class = train_class[seq[int(0.80*len(seq)):]]\n",
    "    return (x_train,x_train_class,x_test,x_test_class)"
   ]
  },
  {
   "cell_type": "code",
   "execution_count": 13,
   "metadata": {
    "collapsed": true
   },
   "outputs": [],
   "source": [
    "# Function call to calculate the euclidean distance, confusion matrix and accuracy \n",
    "\n",
    "def euclidean_distance(encoded_imgs_train,x_train_class,encoded_imgs_test,x_test_class):\n",
    "    #euclidean_distance\n",
    "    majority_class=[]\n",
    "    euclidean_dist = np.zeros(shape=(encoded_imgs_train.shape[0]))\n",
    "    for i in range(0,encoded_imgs_test.shape[0]):\n",
    "        for j in range(0,encoded_imgs_train.shape[0]):\n",
    "            euclidean_dist[j] = ((np.array(encoded_imgs_test[i] - encoded_imgs_train[j]))**2).sum(axis=0).sum(axis=0).sum(axis=0)\n",
    "        top5 = euclidean_dist.argsort()[:5][::-1]\n",
    "        majority_class.append(np.argmax(np.bincount(list(x_train_class[top5]))))\n",
    "\n",
    "    df = pd.DataFrame(majority_class,columns=['predict_class'])\n",
    "    df['true_class'] = x_test_class\n",
    "    cm = confusion_matrix(df['true_class'], df['predict_class'])#, labels=lp_model.classes_)\n",
    "    print (\"\\nConfusion Matrix\")\n",
    "    print (cm)\n",
    "    accuracy = 0\n",
    "    for i in range(0,2):\n",
    "        accuracy += cm[i][i]\n",
    "    print (\"\\nOverall accuracy : \",100*(accuracy/df.shape[0]),\"%\")"
   ]
  },
  {
   "cell_type": "code",
   "execution_count": 14,
   "metadata": {
    "collapsed": true
   },
   "outputs": [],
   "source": [
    "# Function call to calculate the pearson correlation coefficient, confusion matrix and accuracy\n",
    "\n",
    "def pearson_corr_coeff(encoded_imgs_train,x_train_class,encoded_imgs_test,x_test_class):\n",
    "    majority_class=[]\n",
    "    pearson_correlation = np.zeros(shape=(encoded_imgs_train.shape[0]))\n",
    "    for i in range(0,encoded_imgs_test.shape[0]):\n",
    "        for j in range(0,encoded_imgs_train.shape[0]):\n",
    "            pearson_correlation[j] = pearsonr(encoded_imgs_test[i].flatten(), encoded_imgs_train[j].flatten())[0]\n",
    "        top5 = pearson_correlation.argsort()[:5][::-1]\n",
    "        majority_class.append(np.argmax(np.bincount(list(x_train_class[top5]))))\n",
    "\n",
    "    df = pd.DataFrame(majority_class,columns=['predict_class'])\n",
    "    df['true_class'] = x_test_class\n",
    "    cm = confusion_matrix(df['true_class'], df['predict_class'])#, labels=lp_model.classes_)\n",
    "    print (\"\\nConfusion Matrix\")\n",
    "    print (cm)\n",
    "    accuracy = 0\n",
    "    for i in range(0,2):\n",
    "        accuracy += cm[i][i]\n",
    "    print (\"\\nOverall accuracy : \",100*(accuracy/df.shape[0]),\"%\")"
   ]
  },
  {
   "cell_type": "code",
   "execution_count": 15,
   "metadata": {
    "collapsed": false
   },
   "outputs": [],
   "source": [
    "# Function call to calculate the pearson correlation coefficient, confusion matrix and accuracy\n",
    "\n",
    "def pearson_corr_coeff1(encoded_imgs_train,x_train_class,encoded_imgs_test,x_test_class):\n",
    "    from sklearn.neighbors import KNeighborsClassifier\n",
    "    neigh = KNeighborsClassifier(n_neighbors=5,algorithm='brute',metric='correlation')\n",
    "    neigh.fit(encoded_imgs_train, x_train_class)\n",
    "    majority_class = neigh.predict(encoded_imgs_test)\n",
    "\n",
    "    df = pd.DataFrame(majority_class,columns=['predict_class'])\n",
    "    df['true_class'] = x_test_class\n",
    "    cm = confusion_matrix(df['true_class'], df['predict_class'])#, labels=lp_model.classes_)\n",
    "    print (\"\\nConfusion Matrix\")\n",
    "    print (cm)\n",
    "    accuracy = 0\n",
    "    for i in range(0,2):\n",
    "        accuracy += cm[i][i]\n",
    "    print (\"\\nOverall accuracy : \",100*(accuracy/df.shape[0]),\"%\")"
   ]
  },
  {
   "cell_type": "code",
   "execution_count": 16,
   "metadata": {
    "collapsed": true
   },
   "outputs": [],
   "source": [
    "######################################\n",
    "# creating autoencoder\n",
    "######################################\n",
    "# Justification for the autoencoder\n",
    "# I used CNN autoencoder as CNN works best for images.\n",
    "# Our inputs being images, it makes sense to use CNN as encoders and decoders.\n",
    "# The encoder consist of a stack of Conv2D and MaxPooling2D layers\n",
    "# and the decoder consist of a stack of Conv2D and UpSampling2D layers.\n",
    "# 2 convolution layers and 2 pooling layers with activation function = relu for encoder\n",
    "# 2 convolution layers and 2 upsampling layers with activation function = relu for decoder\n",
    "# The reason for chosing this specification is that it gave the best results \n",
    "# in the previous question among the different CNN architectures tried."
   ]
  },
  {
   "cell_type": "code",
   "execution_count": 17,
   "metadata": {
    "collapsed": true
   },
   "outputs": [],
   "source": [
    "\n",
    "input_img = Input(shape=(pixel_size,pixel_size, 3))  # adapt this if using `channels_first` image data format\n",
    "input_img\n",
    "\n",
    "x = Conv2D(16, (3, 3), activation='relu', padding='same')(input_img)\n",
    "x = MaxPooling2D((2, 2), padding='same')(x)\n",
    "x = Conv2D(8, (3, 3), activation='relu', padding='same')(x)\n",
    "x = MaxPooling2D((2, 2), padding='same')(x)\n",
    "x = Conv2D(8, (3, 3), activation='relu', padding='same')(x)\n",
    "encoded = MaxPooling2D((2, 2), padding='same')(x)\n",
    "\n",
    "\n",
    "# at this point the representation is (4, 4, 8) i.e. 128-dimensional\n",
    "x = Conv2D(8, (3, 3), activation='relu', padding='same')(encoded)\n",
    "x = UpSampling2D((2, 2))(x)\n",
    "x = Conv2D(8, (3, 3), activation='relu', padding='same')(x)\n",
    "x = UpSampling2D((2, 2))(x)\n",
    "x = Conv2D(16, (3, 3), activation='relu')(x)\n",
    "x = UpSampling2D((2, 2))(x)\n",
    "decoded = Conv2D(3, (3, 3), activation='sigmoid', padding='same')(x)\n",
    "\n",
    "encoder1 = Model(input_img, encoded)\n",
    "autoencoder1 = Model(input_img, decoded)\n",
    "autoencoder1.compile(optimizer='adadelta', loss='binary_crossentropy')"
   ]
  },
  {
   "cell_type": "code",
   "execution_count": 18,
   "metadata": {
    "collapsed": false
   },
   "outputs": [],
   "source": [
    "x_train,x_train_class,x_test,x_test_class = train_test_split(train_1,train_1_class)"
   ]
  },
  {
   "cell_type": "code",
   "execution_count": 19,
   "metadata": {
    "collapsed": false
   },
   "outputs": [
    {
     "data": {
      "text/plain": [
       "(4, 28, 28, 3)"
      ]
     },
     "execution_count": 19,
     "metadata": {},
     "output_type": "execute_result"
    }
   ],
   "source": [
    "x_test.shape"
   ]
  },
  {
   "cell_type": "code",
   "execution_count": 20,
   "metadata": {
    "collapsed": false
   },
   "outputs": [
    {
     "name": "stdout",
     "output_type": "stream",
     "text": [
      "Train on 14 samples, validate on 4 samples\n",
      "Epoch 1/1\n",
      "14/14 [==============================] - 0s - loss: 321.8404 - val_loss: 158.5017\n"
     ]
    },
    {
     "data": {
      "text/plain": [
       "<keras.callbacks.History at 0x2344fd4dd8>"
      ]
     },
     "execution_count": 20,
     "metadata": {},
     "output_type": "execute_result"
    }
   ],
   "source": [
    "autoencoder1.fit(x_train, x_train,\n",
    "                epochs=1,\n",
    "                batch_size=128,\n",
    "                shuffle=True,\n",
    "                validation_data=(x_test, x_test),\n",
    "                callbacks=[TensorBoard(log_dir='/tmp/autoencoder1')])\n",
    "\n",
    "#autoencoder1.fit(train_1, train_1,\n",
    "#                epochs=1,\n",
    "#                batch_size=128,\n",
    "#                shuffle=True,\n",
    "#                validation_data=(train_1, train_1),\n",
    "#                callbacks=[TensorBoard(log_dir='/tmp/autoencoder1')])"
   ]
  },
  {
   "cell_type": "code",
   "execution_count": 21,
   "metadata": {
    "collapsed": true
   },
   "outputs": [],
   "source": [
    "encoded_imgs_test = encoder1.predict(x_test)\n",
    "encoded_imgs_train = encoder1.predict(x_train)\n",
    "\n",
    "encoded_imgs_test = np.reshape(encoded_imgs_test, (encoded_imgs_test.shape[0], encoded_imgs_test.shape[1]*encoded_imgs_test.shape[2]*encoded_imgs_test.shape[3])) \n",
    "encoded_imgs_train = np.reshape(encoded_imgs_train, (encoded_imgs_train.shape[0], encoded_imgs_train.shape[1]*encoded_imgs_train.shape[2]*encoded_imgs_train.shape[3])) "
   ]
  },
  {
   "cell_type": "code",
   "execution_count": 22,
   "metadata": {
    "collapsed": false
   },
   "outputs": [],
   "source": [
    "#encoded_imgs_test = encoder1.predict(train_1)\n",
    "#encoded_imgs_train = encoder1.predict(train_1)\n",
    "\n",
    "#encoded_imgs_test = np.reshape(encoded_imgs_test, (encoded_imgs_test.shape[0], encoded_imgs_test.shape[1]*encoded_imgs_test.shape[2]*encoded_imgs_test.shape[3])) \n",
    "#encoded_imgs_train = np.reshape(encoded_imgs_train, (encoded_imgs_train.shape[0], encoded_imgs_train.shape[1]*encoded_imgs_train.shape[2]*encoded_imgs_train.shape[3])) "
   ]
  },
  {
   "cell_type": "code",
   "execution_count": 23,
   "metadata": {
    "collapsed": false
   },
   "outputs": [
    {
     "name": "stdout",
     "output_type": "stream",
     "text": [
      "\n",
      "Confusion Matrix\n",
      "[[2 0]\n",
      " [0 2]]\n",
      "\n",
      "Overall accuracy :  100.0 %\n"
     ]
    }
   ],
   "source": [
    "euclidean_distance(encoded_imgs_train,x_train_class,encoded_imgs_test,x_test_class)\n",
    "#euclidean_distance(encoded_imgs_train,train_1_class,encoded_imgs_test,train_1_class)"
   ]
  },
  {
   "cell_type": "code",
   "execution_count": 24,
   "metadata": {
    "collapsed": false
   },
   "outputs": [
    {
     "name": "stdout",
     "output_type": "stream",
     "text": [
      "\n",
      "Confusion Matrix\n",
      "[[1 1]\n",
      " [0 2]]\n",
      "\n",
      "Overall accuracy :  75.0 %\n"
     ]
    }
   ],
   "source": [
    "pearson_corr_coeff1(encoded_imgs_train,x_train_class,encoded_imgs_test,x_test_class)\n",
    "#pearson_corr_coeff1(encoded_imgs_train,train_1_class,encoded_imgs_test,train_1_class)"
   ]
  },
  {
   "cell_type": "code",
   "execution_count": 25,
   "metadata": {
    "collapsed": true
   },
   "outputs": [],
   "source": [
    "######################################\n",
    "# creating SVD\n",
    "######################################\n",
    "# Justification for the value of k\n",
    "# I tried different values of k ranging from\n",
    "# 10,100,200,400,500,700,800,1000 etc.\n",
    "# value of K for ~700 gave the best results in\n",
    "# terms of accuracy %. Hence, I chose k=700"
   ]
  },
  {
   "cell_type": "code",
   "execution_count": 27,
   "metadata": {
    "collapsed": false
   },
   "outputs": [],
   "source": [
    "k=700\n",
    "train_svd = np.reshape(train_1, (len(train_1), pixel_size*pixel_size*3))\n",
    "svd = TruncatedSVD(n_components=k, n_iter=7)\n",
    "train_reduced = svd.fit_transform(train_svd)"
   ]
  },
  {
   "cell_type": "code",
   "execution_count": 28,
   "metadata": {
    "collapsed": true
   },
   "outputs": [],
   "source": [
    "x_train,x_train_class,x_test,x_test_class = train_test_split(train_reduced,train_1_class)"
   ]
  },
  {
   "cell_type": "code",
   "execution_count": 29,
   "metadata": {
    "collapsed": false
   },
   "outputs": [
    {
     "name": "stdout",
     "output_type": "stream",
     "text": [
      "\n",
      "Confusion Matrix\n",
      "[[3 0]\n",
      " [0 1]]\n",
      "\n",
      "Overall accuracy :  100.0 %\n"
     ]
    }
   ],
   "source": [
    "euclidean_distance(x_train,x_train_class,x_test,x_test_class)"
   ]
  },
  {
   "cell_type": "code",
   "execution_count": 30,
   "metadata": {
    "collapsed": false
   },
   "outputs": [
    {
     "name": "stdout",
     "output_type": "stream",
     "text": [
      "\n",
      "Confusion Matrix\n",
      "[[3 0]\n",
      " [0 1]]\n",
      "\n",
      "Overall accuracy :  100.0 %\n"
     ]
    }
   ],
   "source": [
    "pearson_corr_coeff1(x_train,x_train_class,x_test,x_test_class)"
   ]
  },
  {
   "cell_type": "code",
   "execution_count": 31,
   "metadata": {
    "collapsed": true
   },
   "outputs": [],
   "source": [
    "######################################\n",
    "# creating RGB Histograms\n",
    "######################################"
   ]
  },
  {
   "cell_type": "code",
   "execution_count": 40,
   "metadata": {
    "collapsed": false
   },
   "outputs": [
    {
     "name": "stdout",
     "output_type": "stream",
     "text": [
      "(18, 784, 3)\n",
      "[[ 252.  253.  255. ...,   29.   29.   55.]\n",
      " [ 118.   82.   95. ...,   44.   93.   74.]\n",
      " [ 236.  240.  255. ...,   77.   94.  158.]\n",
      " ..., \n",
      " [  52.  192.   85. ...,  168.   47.    4.]\n",
      " [  34.   38.    0. ...,  206.   23.   34.]\n",
      " [ 154.  208.  172. ...,  197.  189.  185.]]\n"
     ]
    }
   ],
   "source": [
    "train_rgb = np.reshape(train_1, (len(train_1), pixel_size*pixel_size, 3)) \n",
    "train_rgb = train_rgb\n",
    "print (train_rgb.shape)\n",
    "train_r = train_rgb[:,:,0]\n",
    "train_g = train_rgb[:,:,1]\n",
    "train_b = train_rgb[:,:,2]\n",
    "print (train_r)"
   ]
  },
  {
   "cell_type": "code",
   "execution_count": 41,
   "metadata": {
    "collapsed": false
   },
   "outputs": [
    {
     "name": "stdout",
     "output_type": "stream",
     "text": [
      "(18, 256) (18, 256) (18, 256)\n",
      "(18, 768)\n"
     ]
    }
   ],
   "source": [
    "train_r_count = []\n",
    "train_g_count = []\n",
    "train_b_count = []\n",
    "for i in range(0,train_r.shape[0]):\n",
    "    train_r_count.append (np.histogram(train_r[i],bins=list(range(0,257)))[0])\n",
    "    train_g_count.append (np.histogram(train_g[i],bins=list(range(0,257)))[0])\n",
    "    train_b_count.append (np.histogram(train_b[i],bins=list(range(0,257)))[0])\n",
    "train_r_count = np.array(train_r_count)\n",
    "train_g_count = np.array(train_g_count)\n",
    "train_b_count = np.array(train_b_count)\n",
    "\n",
    "print (train_r_count.shape,train_g_count.shape,train_b_count.shape)\n",
    "#train_rgb1 = np.concatenate((train_rgb[:,:,0],train_rgb[:,:,1],train_rgb[:,:,2]),axis=1)\n",
    "train_rgb1 = np.concatenate((train_r_count,train_g_count,train_b_count),axis=1)\n",
    "print (train_rgb1.shape)"
   ]
  },
  {
   "cell_type": "code",
   "execution_count": 42,
   "metadata": {
    "collapsed": false
   },
   "outputs": [
    {
     "data": {
      "image/png": "[encoded data removed]",
      "text/plain": [
       "<matplotlib.figure.Figure at 0x2347749940>"
      ]
     },
     "metadata": {},
     "output_type": "display_data"
    },
    {
     "data": {
      "image/png": "[encoded data removed]",
      "text/plain": [
       "<matplotlib.figure.Figure at 0x2348274438>"
      ]
     },
     "metadata": {},
     "output_type": "display_data"
    },
    {
     "data": {
      "image/png": "[encoded data removed]",
      "text/plain": [
       "<matplotlib.figure.Figure at 0x23479ea588>"
      ]
     },
     "metadata": {},
     "output_type": "display_data"
    }
   ],
   "source": [
    "plt.hist(train_r.flatten(), bins=list(range(0,256)))\n",
    "plt.title(\"Histogram of the Red\")\n",
    "plt.show()\n",
    "plt.hist(train_g.flatten(), bins=list(range(0,256)))\n",
    "plt.title(\"Histogram of the Green\")\n",
    "plt.show()\n",
    "plt.hist(train_b.flatten(), bins=list(range(0,256)))\n",
    "plt.title(\"Histogram of the Blue\")\n",
    "plt.show()"
   ]
  },
  {
   "cell_type": "code",
   "execution_count": 43,
   "metadata": {
    "collapsed": false
   },
   "outputs": [],
   "source": [
    "x_train,x_train_class,x_test,x_test_class = train_test_split(train_rgb1,train_1_class)"
   ]
  },
  {
   "cell_type": "code",
   "execution_count": 46,
   "metadata": {
    "collapsed": false
   },
   "outputs": [
    {
     "name": "stdout",
     "output_type": "stream",
     "text": [
      "\n",
      "Confusion Matrix\n",
      "[[1 1]\n",
      " [2 0]]\n",
      "\n",
      "Overall accuracy :  25.0 %\n"
     ]
    }
   ],
   "source": [
    "euclidean_distance(x_train,x_train_class,x_test,x_test_class)"
   ]
  },
  {
   "cell_type": "code",
   "execution_count": 47,
   "metadata": {
    "collapsed": false
   },
   "outputs": [
    {
     "name": "stdout",
     "output_type": "stream",
     "text": [
      "\n",
      "Confusion Matrix\n",
      "[[2 0]\n",
      " [0 2]]\n",
      "\n",
      "Overall accuracy :  100.0 %\n"
     ]
    }
   ],
   "source": [
    "pearson_corr_coeff1(x_train,x_train_class,x_test,x_test_class)"
   ]
  },
  {
   "cell_type": "code",
   "execution_count": 48,
   "metadata": {
    "collapsed": true
   },
   "outputs": [],
   "source": [
    "######################################\n",
    "# creating HSV Histograms\n",
    "######################################"
   ]
  },
  {
   "cell_type": "code",
   "execution_count": 49,
   "metadata": {
    "collapsed": false
   },
   "outputs": [],
   "source": [
    "from skimage import color\n",
    "#train.shape\n",
    "train_hsv = train_1\n",
    "for i in range(0,train_1.shape[0]):\n",
    "    train_hsv[i] = color.rgb2hsv(train_1[i])\n",
    "#train_hsv.shape"
   ]
  },
  {
   "cell_type": "code",
   "execution_count": 58,
   "metadata": {
    "collapsed": false
   },
   "outputs": [
    {
     "name": "stdout",
     "output_type": "stream",
     "text": [
      "(18, 784, 3)\n",
      "[[ 128.           18.28571429  213.33333333 ...,  152.70175439\n",
      "    95.17948718   89.6       ]\n",
      " [ 154.66666667  154.32624113  151.12772586 ...,  151.94557823\n",
      "   142.50666667  152.92883895]\n",
      " [  48.76190476   48.76190476   42.66666667 ...,  148.68686869\n",
      "   156.09756098  187.73333333]\n",
      " ..., \n",
      " [  22.45614035   10.44444444    8.34782609 ...,   24.38095238   54.3030303\n",
      "   157.86666667]\n",
      " [ 156.06006006  155.7979798   149.96078431 ...,   40.14201183   89.6\n",
      "   210.05128205]\n",
      " [  20.0091954    19.55555556   19.52069717 ...,   43.73333333\n",
      "    42.66666667   44.4822695 ]]\n"
     ]
    }
   ],
   "source": [
    "train_hsv = np.reshape(train_1, (len(train_1), pixel_size*pixel_size, 3)) \n",
    "train_hsv = train_hsv\n",
    "print (train_hsv.shape)\n",
    "train_h = train_hsv[:,:,0]*256\n",
    "train_s = train_hsv[:,:,1]*256\n",
    "train_v = train_hsv[:,:,2]\n",
    "print (train_h)"
   ]
  },
  {
   "cell_type": "code",
   "execution_count": 59,
   "metadata": {
    "collapsed": false
   },
   "outputs": [
    {
     "name": "stdout",
     "output_type": "stream",
     "text": [
      "(18, 256) (18, 256) (18, 256)\n",
      "(18, 768)\n"
     ]
    }
   ],
   "source": [
    "train_h_count = []\n",
    "train_s_count = []\n",
    "train_v_count = []\n",
    "for i in range(0,train_h.shape[0]):\n",
    "    train_h_count.append (np.histogram(train_h[i],bins=list(range(0,257)))[0])\n",
    "    train_s_count.append (np.histogram(train_s[i],bins=list(range(0,257)))[0])\n",
    "    train_v_count.append (np.histogram(train_v[i],bins=list(range(0,257)))[0])\n",
    "train_h_count = np.array(train_h_count)\n",
    "train_s_count = np.array(train_s_count)\n",
    "train_v_count = np.array(train_v_count)\n",
    "\n",
    "print (train_h_count.shape,train_s_count.shape,train_v_count.shape)\n",
    "#train_hsv1 = np.concatenate((train_hsv[:,:,0],train_hsv[:,:,1],train_hsv[:,:,2]),axis=1)\n",
    "train_hsv1 = np.concatenate((train_h_count,train_s_count,train_v_count),axis=1)\n",
    "print (train_hsv1.shape)"
   ]
  },
  {
   "cell_type": "code",
   "execution_count": 60,
   "metadata": {
    "collapsed": false
   },
   "outputs": [
    {
     "data": {
      "image/png": "[encoded data removed]",
      "text/plain": [
       "<matplotlib.figure.Figure at 0x2347c1fe80>"
      ]
     },
     "metadata": {},
     "output_type": "display_data"
    },
    {
     "data": {
      "image/png": "[encoded data removed]",
      "text/plain": [
       "<matplotlib.figure.Figure at 0x234811bcc0>"
      ]
     },
     "metadata": {},
     "output_type": "display_data"
    },
    {
     "data": {
      "image/png": "[encoded data removed]",
      "text/plain": [
       "<matplotlib.figure.Figure at 0x234760a470>"
      ]
     },
     "metadata": {},
     "output_type": "display_data"
    }
   ],
   "source": [
    "plt.hist(train_h.flatten(), bins=list(range(0,256)))\n",
    "plt.title(\"Histogram of the Hue\")\n",
    "plt.show()\n",
    "plt.hist(train_s.flatten(), bins=list(range(0,256)))\n",
    "plt.title(\"Histogram of the Saturation\")\n",
    "plt.show()\n",
    "plt.hist(train_v.flatten(), bins=list(range(0,256)))\n",
    "plt.title(\"Histogram of the Value\")\n",
    "plt.show()"
   ]
  },
  {
   "cell_type": "code",
   "execution_count": 62,
   "metadata": {
    "collapsed": false
   },
   "outputs": [],
   "source": [
    "x_train,x_train_class,x_test,x_test_class = train_test_split(train_hsv1,train_1_class)"
   ]
  },
  {
   "cell_type": "code",
   "execution_count": 63,
   "metadata": {
    "collapsed": false
   },
   "outputs": [
    {
     "name": "stdout",
     "output_type": "stream",
     "text": [
      "\n",
      "Confusion Matrix\n",
      "[[1 0]\n",
      " [3 0]]\n",
      "\n",
      "Overall accuracy :  25.0 %\n"
     ]
    }
   ],
   "source": [
    "euclidean_distance(x_train,x_train_class,x_test,x_test_class)"
   ]
  },
  {
   "cell_type": "code",
   "execution_count": 64,
   "metadata": {
    "collapsed": false
   },
   "outputs": [
    {
     "name": "stdout",
     "output_type": "stream",
     "text": [
      "\n",
      "Confusion Matrix\n",
      "[[0 1]\n",
      " [2 1]]\n",
      "\n",
      "Overall accuracy :  25.0 %\n"
     ]
    }
   ],
   "source": [
    "pearson_corr_coeff1(x_train,x_train_class,x_test,x_test_class)"
   ]
  },
  {
   "cell_type": "code",
   "execution_count": 45,
   "metadata": {
    "collapsed": true
   },
   "outputs": [],
   "source": [
    "###########################################\n",
    "# Results interpretation\n",
    "# All the results of the overall accuracy \n",
    "# are around ~30%-44% which is much better\n",
    "# than the average accuracy of 1/6=16.66%\n",
    "# Hence, we can claim that the classifier\n",
    "# are working better than the random guess\n",
    "##########################################"
   ]
  },
  {
   "cell_type": "code",
   "execution_count": null,
   "metadata": {
    "collapsed": true
   },
   "outputs": [],
   "source": []
  }
 ],
 "metadata": {
  "anaconda-cloud": {},
  "kernelspec": {
   "display_name": "Python [Root]",
   "language": "python",
   "name": "Python [Root]"
  },
  "language_info": {
   "codemirror_mode": {
    "name": "ipython",
    "version": 3
   },
   "file_extension": ".py",
   "mimetype": "text/x-python",
   "name": "python",
   "nbconvert_exporter": "python",
   "pygments_lexer": "ipython3",
   "version": "3.5.2"
  }
 },
 "nbformat": 4,
 "nbformat_minor": 2
}
